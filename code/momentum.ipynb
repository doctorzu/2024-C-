{
 "cells": [
  {
   "cell_type": "code",
   "execution_count": 1,
   "id": "initial_id",
   "metadata": {
    "collapsed": true,
    "ExecuteTime": {
     "end_time": "2024-02-02T05:23:11.388050100Z",
     "start_time": "2024-02-02T05:23:10.791946900Z"
    }
   },
   "outputs": [],
   "source": [
    "import pandas as pd\n",
    "import numpy as np\n",
    "import matplotlib.pyplot as plt\n",
    "plt.rcParams['font.sans-serif'] = ['SimHei']  \n",
    "plt.rcParams['axes.unicode_minus'] = False  "
   ]
  },
  {
   "cell_type": "code",
   "execution_count": 2,
   "outputs": [
    {
     "name": "stdout",
     "output_type": "stream",
     "text": [
      "<class 'pandas.core.frame.DataFrame'>\n",
      "RangeIndex: 7284 entries, 0 to 7283\n",
      "Data columns (total 46 columns):\n",
      " #   Column              Non-Null Count  Dtype  \n",
      "---  ------              --------------  -----  \n",
      " 0   match_id            7284 non-null   object \n",
      " 1   player1             7284 non-null   object \n",
      " 2   player2             7284 non-null   object \n",
      " 3   elapsed_time        7284 non-null   object \n",
      " 4   set_no              7284 non-null   int64  \n",
      " 5   game_no             7284 non-null   int64  \n",
      " 6   point_no            7284 non-null   int64  \n",
      " 7   p1_sets             7284 non-null   int64  \n",
      " 8   p2_sets             7284 non-null   int64  \n",
      " 9   p1_games            7284 non-null   int64  \n",
      " 10  p2_games            7284 non-null   int64  \n",
      " 11  p1_score            7284 non-null   object \n",
      " 12  p2_score            7284 non-null   object \n",
      " 13  server              7284 non-null   int64  \n",
      " 14  serve_no            7284 non-null   int64  \n",
      " 15  point_victor        7284 non-null   int64  \n",
      " 16  p1_points_won       7284 non-null   int64  \n",
      " 17  p2_points_won       7284 non-null   int64  \n",
      " 18  game_victor         7284 non-null   int64  \n",
      " 19  set_victor          7284 non-null   int64  \n",
      " 20  p1_ace              7284 non-null   int64  \n",
      " 21  p2_ace              7284 non-null   int64  \n",
      " 22  p1_winner           7284 non-null   int64  \n",
      " 23  p2_winner           7284 non-null   int64  \n",
      " 24  winner_shot_type    7284 non-null   object \n",
      " 25  p1_double_fault     7284 non-null   int64  \n",
      " 26  p2_double_fault     7284 non-null   int64  \n",
      " 27  p1_unf_err          7284 non-null   int64  \n",
      " 28  p2_unf_err          7284 non-null   int64  \n",
      " 29  p1_net_pt           7284 non-null   int64  \n",
      " 30  p2_net_pt           7284 non-null   int64  \n",
      " 31  p1_net_pt_won       7284 non-null   int64  \n",
      " 32  p2_net_pt_won       7284 non-null   int64  \n",
      " 33  p1_break_pt         7284 non-null   int64  \n",
      " 34  p2_break_pt         7284 non-null   int64  \n",
      " 35  p1_break_pt_won     7284 non-null   int64  \n",
      " 36  p2_break_pt_won     7284 non-null   int64  \n",
      " 37  p1_break_pt_missed  7284 non-null   int64  \n",
      " 38  p2_break_pt_missed  7284 non-null   int64  \n",
      " 39  p1_distance_run     7284 non-null   float64\n",
      " 40  p2_distance_run     7284 non-null   float64\n",
      " 41  rally_count         7284 non-null   int64  \n",
      " 42  speed_mph           6532 non-null   float64\n",
      " 43  serve_width         7230 non-null   object \n",
      " 44  serve_depth         7230 non-null   object \n",
      " 45  return_depth        5975 non-null   object \n",
      "dtypes: float64(3), int64(33), object(10)\n",
      "memory usage: 2.6+ MB\n"
     ]
    }
   ],
   "source": [
    "path = '../Wimbledon_featured_matches.csv'\n",
    "df = pd.read_csv(path)\n",
    "df.info()"
   ],
   "metadata": {
    "collapsed": false,
    "ExecuteTime": {
     "end_time": "2024-02-02T05:23:11.435581400Z",
     "start_time": "2024-02-02T05:23:11.391300Z"
    }
   },
   "id": "7dc060b4d3ec1fe6"
  },
  {
   "cell_type": "code",
   "execution_count": 3,
   "outputs": [],
   "source": [
    "\"\"\"\n",
    "    match_id: 比赛编号\n",
    "    set_no: 局数\n",
    "    point_no: 得分点编号\n",
    "    point_victor: 当前得分点的得分人\n",
    "    server：当前发球人\n",
    "\"\"\"\n",
    "data = df[['match_id', 'set_no', 'point_no', 'point_victor', 'server']]\n",
    "target_match_id = '2023-wimbledon-1701'\n",
    "data = data[data['match_id'] == target_match_id]\n",
    "\n",
    "data['momentum_score_1'] = 0\n",
    "data['momentum_score_2'] = 0\n",
    "\n",
    "momentum_score_1 = 0\n",
    "momentum_score_2 = 0\n",
    "consecutive_wins_1 = 0\n",
    "consecutive_wins_2 = 0"
   ],
   "metadata": {
    "collapsed": false,
    "ExecuteTime": {
     "end_time": "2024-02-02T05:23:11.479331100Z",
     "start_time": "2024-02-02T05:23:11.436577700Z"
    }
   },
   "id": "8b96982486264e41"
  },
  {
   "cell_type": "code",
   "execution_count": 6,
   "outputs": [
    {
     "data": {
      "text/plain": "6950      0.00\n6951      1.20\n6952      2.60\n6953      2.60\n6954      3.80\n         ...  \n7279    254.88\n7280    256.56\n7281    256.56\n7282    258.00\n7283    259.68\nName: momentum_score_1, Length: 334, dtype: float64"
     },
     "execution_count": 6,
     "metadata": {},
     "output_type": "execute_result"
    }
   ],
   "source": [
    "for index, row in data.iterrows():\n",
    "    \"\"\"\n",
    "    球员1\n",
    "    \"\"\"\n",
    "    P_t = 1 if row['point_victor'] == 1 else 0\n",
    "    S_t = 1.2 if row['server'] == 1 else 1.0\n",
    "    if P_t == 1:\n",
    "        consecutive_wins_1 += 1\n",
    "    else:\n",
    "        consecutive_wins_1 = 0\n",
    "    C_t = 1 + consecutive_wins_1 * 0.2\n",
    "    momentum_score_1 += (P_t * S_t * C_t)\n",
    "    data.at[index, 'momentum_score_1'] = momentum_score_1\n",
    "\n",
    "    \"\"\"\n",
    "    球员2\n",
    "    \"\"\"\n",
    "    P_t = 1 if row['point_victor'] == 2 else 0\n",
    "    S_t = 1.2 if row['server'] == 2 else 1.0\n",
    "    if P_t == 1:\n",
    "        consecutive_wins_2 += 1\n",
    "    else:\n",
    "        consecutive_wins_2 = 0\n",
    "    C_t = 1 + consecutive_wins_2 * 0.2\n",
    "    momentum_score_2 += (P_t * S_t * C_t)\n",
    "    data.at[index, 'momentum_score_2'] = momentum_score_2\n",
    "\n",
    "momentum_score_1 = 0\n",
    "momentum_score_2 = 0\n",
    "\n",
    "data['momentum_score_1']"
   ],
   "metadata": {
    "collapsed": false,
    "ExecuteTime": {
     "end_time": "2024-02-02T05:23:30.745641100Z",
     "start_time": "2024-02-02T05:23:30.709647200Z"
    }
   },
   "id": "1ee56d946cf07464"
  },
  {
   "cell_type": "code",
   "execution_count": 5,
   "outputs": [
    {
     "data": {
      "text/plain": "<Figure size 640x480 with 1 Axes>",
      "image/png": "[encoded data removed]"
     },
     "metadata": {},
     "output_type": "display_data"
    }
   ],
   "source": [
    "# 可视化势头分数变化\n",
    "plt.plot(data['point_no'], data['momentum_score_1'], label='Momentum Score')\n",
    "plt.xlabel('Point Number')\n",
    "plt.ylabel('Momentum Score')\n",
    "plt.title('Match Momentum Flow(Player 1)')\n",
    "plt.legend()\n",
    "plt.show()\n"
   ],
   "metadata": {
    "collapsed": false,
    "ExecuteTime": {
     "end_time": "2024-02-02T05:23:11.607055200Z",
     "start_time": "2024-02-02T05:23:11.483837300Z"
    }
   },
   "id": "a6489420949acb9"
  },
  {
   "cell_type": "code",
   "execution_count": 5,
   "outputs": [],
   "source": [],
   "metadata": {
    "collapsed": false,
    "ExecuteTime": {
     "end_time": "2024-02-02T05:23:11.619894Z",
     "start_time": "2024-02-02T05:23:11.606058700Z"
    }
   },
   "id": "3fa9c1fdc7983358"
  }
 ],
 "metadata": {
  "kernelspec": {
   "display_name": "Python 3",
   "language": "python",
   "name": "python3"
  },
  "language_info": {
   "codemirror_mode": {
    "name": "ipython",
    "version": 2
   },
   "file_extension": ".py",
   "mimetype": "text/x-python",
   "name": "python",
   "nbconvert_exporter": "python",
   "pygments_lexer": "ipython2",
   "version": "2.7.6"
  }
 },
 "nbformat": 4,
 "nbformat_minor": 5
}
