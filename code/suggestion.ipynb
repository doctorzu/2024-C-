{
 "cells": [
  {
   "cell_type": "code",
   "execution_count": 1,
   "id": "initial_id",
   "metadata": {
    "collapsed": true,
    "ExecuteTime": {
     "end_time": "2024-02-05T03:45:27.670258500Z",
     "start_time": "2024-02-05T03:45:27.000162800Z"
    }
   },
   "outputs": [],
   "source": [
    "import pandas as pd\n",
    "from sklearn.linear_model import LogisticRegression\n",
    "from sklearn.preprocessing import StandardScaler\n",
    "from sklearn.model_selection import train_test_split\n",
    "from sklearn.preprocessing import MinMaxScaler\n"
   ]
  },
  {
   "cell_type": "code",
   "execution_count": 2,
   "outputs": [],
   "source": [
    "file_path = 'intersections_data_1.csv'\n",
    "data = pd.read_csv(file_path)\n",
    "data['distance_diff'] = data['p2_distance_run'] - data['p1_distance_run']\n",
    "data_1 = data[data['server'] == 1]\n",
    "data_2 = data[data['server'] != 1]"
   ],
   "metadata": {
    "collapsed": false,
    "ExecuteTime": {
     "end_time": "2024-02-05T03:45:27.685227500Z",
     "start_time": "2024-02-05T03:45:27.673248700Z"
    }
   },
   "id": "ccf025ca2fedb0d6"
  },
  {
   "cell_type": "code",
   "execution_count": 14,
   "outputs": [
    {
     "name": "stdout",
     "output_type": "stream",
     "text": [
      "When Player1 plays server:\n",
      "Coefficient of features: \n",
      "             Feature  Coefficient\n",
      "0            p1_sets    -0.660716\n",
      "1            p2_sets     1.079027\n",
      "2           p1_games     0.523895\n",
      "3           p2_games    -0.461889\n",
      "4    p1_double_fault     0.360961\n",
      "5         p1_unf_err    -0.310627\n",
      "6         p2_unf_err    -0.924556\n",
      "7        rally_count     0.404886\n",
      "8          speed_mph    -0.641765\n",
      "9      serve_width_B    -0.342782\n",
      "10    serve_width_BC    -0.237314\n",
      "11    serve_width_BW    -0.029538\n",
      "12     serve_width_C     0.361789\n",
      "13     serve_width_W     0.111184\n",
      "14   serve_depth_CTL    -0.393256\n",
      "15  serve_depth_NCTL     0.391367\n",
      "16     distance_diff    -0.314234\n",
      "17   p2_distance_run    -0.570710\n",
      "18   p1_distance_run    -0.515582\n",
      "\n",
      "Accuracy of model: 0.75\n",
      "***********************************************\n"
     ]
    }
   ],
   "source": [
    "\"\"\"\n",
    "当Player1是发球方的分析\n",
    "\"\"\"\n",
    "# Feature select(server)\n",
    "server_feature = ['Label', 'p1_sets', 'p2_sets', 'p1_games', 'p2_games', 'p1_double_fault', 'p1_unf_err', 'p2_unf_err', 'rally_count', 'speed_mph', 'serve_width_B', 'serve_width_BC', 'serve_width_BW', 'serve_width_C', 'serve_width_W', 'serve_depth_CTL', 'serve_depth_NCTL', 'distance_diff', 'p2_distance_run', 'p1_distance_run']\n",
    "data_1 = data_1[server_feature]\n",
    "\n",
    "data_1.to_csv('server_1_data.csv', index=False)\n",
    "\n",
    "# Separating the features and the target variable\n",
    "X = data_1.drop('Label', axis=1)\n",
    "y = data_1['Label']\n",
    "\n",
    "# Normalizing the data\n",
    "scaler = StandardScaler()\n",
    "X_scaled = scaler.fit_transform(X)\n",
    "\n",
    "# # 选择要归一化的特征\n",
    "# features_to_normalize = ['rally_count', 'speed_mph', 'distance_diff']\n",
    "# \n",
    "# # 初始化归一化器\n",
    "# scaler = MinMaxScaler()\n",
    "# \n",
    "# # 只对选定的特征进行归一化\n",
    "# X_scaled_subset = scaler.fit_transform(X[features_to_normalize])\n",
    "# \n",
    "# # 将归一化后的数据转换为DataFrame\n",
    "# X_scaled_subset_df = pd.DataFrame(X_scaled_subset, columns=features_to_normalize, index=X.index)\n",
    "# \n",
    "# # 将未进行归一化的特征与归一化后的特征合并\n",
    "# X_scaled = X.drop(features_to_normalize, axis=1)\n",
    "# X_scaled = pd.concat([X_scaled, X_scaled_subset_df], axis=1)\n",
    "\n",
    "\n",
    "\n",
    "\n",
    "# Splitting the data into training and test sets\n",
    "X_train, X_test, y_train, y_test = train_test_split(X_scaled, y, test_size=0.2, random_state=100)\n",
    "\n",
    "# Training the logistic regression model\n",
    "model = LogisticRegression()\n",
    "model.fit(X_train, y_train)\n",
    "\n",
    "# Getting the coefficients\n",
    "coefficients = model.coef_[0]\n",
    "feature_names = X.columns\n",
    "coefficients_df = pd.DataFrame({'Feature': feature_names, 'Coefficient': coefficients})\n",
    "\n",
    "# Evaluating the model's accuracy on the test set\n",
    "accuracy = model.score(X_test, y_test)\n",
    "\n",
    "# Display coefficients and accuracy\n",
    "print(f\"When Player1 plays server:\")\n",
    "print(f'Coefficient of features: \\n{coefficients_df}')\n",
    "print(f'\\nAccuracy of model: {accuracy}')\n",
    "print(\"***********************************************\")"
   ],
   "metadata": {
    "collapsed": false,
    "ExecuteTime": {
     "end_time": "2024-02-05T03:46:31.473797300Z",
     "start_time": "2024-02-05T03:46:31.447679900Z"
    }
   },
   "id": "e88ad5bb5f337b4e"
  },
  {
   "cell_type": "code",
   "execution_count": 13,
   "outputs": [
    {
     "name": "stdout",
     "output_type": "stream",
     "text": [
      "When Player1 plays servee:\n",
      "Coefficient of features: \n",
      "            Feature  Coefficient\n",
      "0           p1_sets     0.124868\n",
      "1           p2_sets    -0.149697\n",
      "2          p1_games     0.519961\n",
      "3          p2_games    -0.155793\n",
      "4   p2_double_fault     0.643224\n",
      "5        p1_unf_err    -0.136075\n",
      "6        p2_unf_err    -0.087853\n",
      "7       rally_count    -0.305280\n",
      "8         speed_mph     0.205257\n",
      "9    return_depth_D     0.259512\n",
      "10  return_depth_ND     0.372136\n",
      "11    distance_diff    -0.093827\n",
      "12  p2_distance_run     0.399639\n",
      "13  p1_distance_run     0.333224\n",
      "\n",
      "Accuracy of model: 0.782608695652174\n",
      "***********************************************\n"
     ]
    }
   ],
   "source": [
    "\"\"\"\n",
    "当Player1是接球方的分析\n",
    "\"\"\"\n",
    "# Feature select(server)\n",
    "servee_feature = ['Label', 'p1_sets', 'p2_sets', 'p1_games', 'p2_games', 'p2_double_fault', 'p1_unf_err', 'p2_unf_err', 'rally_count', 'speed_mph', 'return_depth_D', 'return_depth_ND', 'distance_diff', 'p2_distance_run', 'p1_distance_run']\n",
    "data_2 = data_2[servee_feature]\n",
    "\n",
    "data_2.to_csv('server_2_data.csv', index=False)\n",
    "\n",
    "# Separating features and target variable\n",
    "X_2 = data_2.drop('Label', axis=1)\n",
    "y_2 = data_2['Label']\n",
    "\n",
    "# Normalizing the data\n",
    "scaler_2 = StandardScaler()\n",
    "X_2_scaled = scaler_2.fit_transform(X_2)\n",
    "\n",
    "# # 选择要归一化的特征\n",
    "# features_to_normalize = ['rally_count', 'speed_mph', 'distance_diff']\n",
    "# \n",
    "# # 初始化归一化器\n",
    "# scaler_2 = MinMaxScaler()\n",
    "# \n",
    "# # 只对选定的特征进行归一化\n",
    "# X_2_scaled_subset = scaler_2.fit_transform(X_2[features_to_normalize])\n",
    "# \n",
    "# # 将归一化后的数据转换为DataFrame\n",
    "# X_2_scaled_subset_df = pd.DataFrame(X_2_scaled_subset, columns=features_to_normalize, index=X_2.index)\n",
    "# \n",
    "# # 将未进行归一化的特征与归一化后的特征合并\n",
    "# X_2_scaled = X_2.drop(features_to_normalize, axis=1)\n",
    "# X_2_scaled = pd.concat([X_2_scaled, X_2_scaled_subset_df], axis=1)\n",
    "\n",
    "\n",
    "\n",
    "# Splitting the data into training and test sets\n",
    "X_2_train, X_2_test, y_2_train, y_2_test = train_test_split(X_2_scaled, y_2, test_size=0.2, random_state=0)\n",
    "\n",
    "# Training a new logistic regression model on the second dataset\n",
    "model_2 = LogisticRegression()\n",
    "model_2.fit(X_2_train, y_2_train)\n",
    "\n",
    "# Getting the coefficients for the second model\n",
    "coefficients_2 = model_2.coef_[0]\n",
    "feature_names_2 = X_2.columns\n",
    "coefficients_df_2 = pd.DataFrame({'Feature': feature_names_2, 'Coefficient': coefficients_2})\n",
    "\n",
    "# Evaluating the accuracy of the second model on the test set\n",
    "accuracy_2 = model_2.score(X_2_test, y_2_test)\n",
    "\n",
    "# Display coefficients and accuracy\n",
    "print(f\"When Player1 plays servee:\")\n",
    "print(f'Coefficient of features: \\n{coefficients_df_2}')\n",
    "print(f'\\nAccuracy of model: {accuracy_2}')\n",
    "print(\"***********************************************\")"
   ],
   "metadata": {
    "collapsed": false,
    "ExecuteTime": {
     "end_time": "2024-02-05T03:46:26.314272800Z",
     "start_time": "2024-02-05T03:46:26.297327500Z"
    }
   },
   "id": "bbe3184b055d83f6"
  },
  {
   "cell_type": "code",
   "execution_count": 4,
   "outputs": [],
   "source": [],
   "metadata": {
    "collapsed": false,
    "ExecuteTime": {
     "end_time": "2024-02-05T03:45:27.762526Z",
     "start_time": "2024-02-05T03:45:27.750634800Z"
    }
   },
   "id": "773021123a0a715c"
  }
 ],
 "metadata": {
  "kernelspec": {
   "display_name": "Python 3",
   "language": "python",
   "name": "python3"
  },
  "language_info": {
   "codemirror_mode": {
    "name": "ipython",
    "version": 2
   },
   "file_extension": ".py",
   "mimetype": "text/x-python",
   "name": "python",
   "nbconvert_exporter": "python",
   "pygments_lexer": "ipython2",
   "version": "2.7.6"
  }
 },
 "nbformat": 4,
 "nbformat_minor": 5
}
